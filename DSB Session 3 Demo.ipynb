{
 "cells": [
  {
   "cell_type": "markdown",
   "metadata": {},
   "source": [
    "# DSB Session 3 Demo - Unsupervised Learning Methods"
   ]
  },
  {
   "cell_type": "markdown",
   "metadata": {},
   "source": [
    "In this demo we consider unsupervised learning in the form of clustering methods and principal component analysis (PCA).\n",
    "\n",
    "This demo uses data from the Landsat dataset. "
   ]
  },
  {
   "cell_type": "markdown",
   "metadata": {
    "scrolled": true
   },
   "source": [
    "## Notebook Setup"
   ]
  },
  {
   "cell_type": "code",
   "execution_count": null,
   "metadata": {
    "scrolled": true
   },
   "outputs": [],
   "source": [
    "import os\n",
    "import numpy as np \n",
    "import pandas as pd\n",
    "import matplotlib\n",
    "import matplotlib.pyplot as plt\n",
    "import seaborn as sns\n",
    "from sklearn.cluster import KMeans\n",
    "from sklearn.metrics import adjusted_rand_score\n",
    "from sklearn.metrics import silhouette_score\n",
    "from sklearn.decomposition import PCA"
   ]
  },
  {
   "cell_type": "code",
   "execution_count": null,
   "metadata": {},
   "outputs": [],
   "source": [
    "%matplotlib inline"
   ]
  },
  {
   "cell_type": "code",
   "execution_count": null,
   "metadata": {},
   "outputs": [],
   "source": [
    "from IPython.display import display, HTML\n",
    "display(HTML(\"<style>.jp-OutputArea-output {display:flex}</style>\"))\n",
    "import warnings\n",
    "warnings.filterwarnings('ignore')"
   ]
  },
  {
   "cell_type": "markdown",
   "metadata": {},
   "source": [
    "## Loading and exploring the landsat dataset"
   ]
  },
  {
   "cell_type": "markdown",
   "metadata": {},
   "source": [
    "For information about the Landsat data you can read here: http://archive.ics.uci.edu/dataset/146/statlog+landsat+satellite\n"
   ]
  },
  {
   "cell_type": "code",
   "execution_count": null,
   "metadata": {
    "scrolled": true
   },
   "outputs": [],
   "source": [
    "# Read the CSV\n",
    "\n",
    "data_path = os.path.join(os.getcwd(), 'datasets', 'landsat.csv')\n",
    "landsat = pd.read_csv(data_path, delimiter = ',')"
   ]
  },
  {
   "cell_type": "code",
   "execution_count": null,
   "metadata": {},
   "outputs": [],
   "source": [
    "# Get a feel for the dataset\n",
    "\n",
    "landsat.head()"
   ]
  },
  {
   "cell_type": "code",
   "execution_count": null,
   "metadata": {},
   "outputs": [],
   "source": [
    "landsat.shape"
   ]
  },
  {
   "cell_type": "code",
   "execution_count": null,
   "metadata": {},
   "outputs": [],
   "source": [
    "# Split the data into the features `X`, and the labels `y`\n",
    "\n",
    "X = landsat.drop('class', axis=1)\n",
    "y = landsat['class'].values"
   ]
  },
  {
   "cell_type": "code",
   "execution_count": null,
   "metadata": {},
   "outputs": [],
   "source": [
    "print('Number of instances: {}, number of attributes: {}'.format(X.shape[0], X.shape[1]))"
   ]
  },
  {
   "cell_type": "code",
   "execution_count": null,
   "metadata": {},
   "outputs": [],
   "source": [
    "landsat.describe()"
   ]
  },
  {
   "cell_type": "code",
   "execution_count": null,
   "metadata": {},
   "outputs": [],
   "source": [
    "\n",
    "labeldict = {\n",
    "    1:'red soil', \n",
    "    2:'cotton crop', \n",
    "    3:'grey soil',\n",
    "    4:'damp grey soil', \n",
    "    5:'soil with vegetation stubble',\n",
    "    6:'mixture class (all types present)',\n",
    "    7:'very damp grey soil'\n",
    "}\n",
    "\n",
    "fig, ax = plt.subplots()\n",
    "landsat['class'].astype('category').value_counts().plot(kind='bar', ax=ax)\n",
    "labels = [int(ticklabel.get_text()) for ticklabel in ax.get_xticklabels()]\n",
    "ax.set_xticklabels([labeldict[l] for l in labels])\n",
    "plt.xlabel('Classes')\n",
    "plt.ylabel('Count')\n",
    "plt.title('Class distribution')\n",
    "plt.show()"
   ]
  },
  {
   "cell_type": "code",
   "execution_count": null,
   "metadata": {},
   "outputs": [],
   "source": [
    "# Plot a few datapoints.\n",
    "\n",
    "def get_images(row):    \n",
    "    # Get each of the 4 3x3 images contained in the row\n",
    "    # Pixels are labeled 1 to 9 from topleft to bottom right\n",
    "    # They are measured at 4 spectral bands\n",
    "    \n",
    "    img = [[]] * 4\n",
    "    for ii in range(4):\n",
    "        img[ii] = row.iloc[[4*p + ii for p in range(9)]].values.reshape((3,3)).astype(int)\n",
    "    return img\n",
    "        \n",
    "for ii in range(1):\n",
    "    fig, ax = plt.subplots(1,4)\n",
    "    plt.suptitle('Row {}'.format(ii), fontsize=16)\n",
    "    for jj, img in enumerate(get_images(landsat.iloc[ii,:])):\n",
    "        ax[jj] = sns.heatmap(\n",
    "            img, \n",
    "            annot=True, \n",
    "            fmt=\"d\", \n",
    "            ax=ax[jj], \n",
    "            vmin=0, \n",
    "            vmax=255,\n",
    "            cbar=False, \n",
    "            square=True, \n",
    "            cmap=plt.cm.gray\n",
    "        )\n",
    "        ax[jj].invert_yaxis()\n",
    "        ax[jj].set_title('Band {}'.format(jj))\n",
    "    plt.tight_layout()\n",
    "    plt.subplots_adjust(top=1.4)"
   ]
  },
  {
   "cell_type": "code",
   "execution_count": null,
   "metadata": {},
   "outputs": [],
   "source": [
    "\n",
    "for ii in range(4):\n",
    "    fig, ax = plt.subplots(1,4)\n",
    "    plt.suptitle('Row {}'.format(ii), fontsize=16)\n",
    "    for jj, img in enumerate(get_images(landsat.iloc[ii,:])):\n",
    "        ax[jj] = sns.heatmap(\n",
    "            img, \n",
    "            annot=True, \n",
    "            fmt=\"d\", \n",
    "            ax=ax[jj], \n",
    "            vmin=0, \n",
    "            vmax=255,\n",
    "            cbar=False, \n",
    "            square=True, \n",
    "            cmap=plt.cm.gray\n",
    "        )\n",
    "        ax[jj].invert_yaxis()\n",
    "        ax[jj].set_title('Band {}'.format(jj))\n",
    "    plt.tight_layout()\n",
    "    plt.subplots_adjust(top=1.4)"
   ]
  },
  {
   "cell_type": "markdown",
   "metadata": {},
   "source": [
    "## Clustering the landsat dataset"
   ]
  },
  {
   "cell_type": "markdown",
   "metadata": {},
   "source": [
    "Since there are 6 classes in the data, it would be interesting to try clustering with k=6 centres..."
   ]
  },
  {
   "cell_type": "markdown",
   "metadata": {
    "collapsed": true,
    "jupyter": {
     "outputs_hidden": true
    }
   },
   "source": [
    "\n",
    "Initialise a [k-means clustering](http://scikit-learn.org/stable/modules/generated/sklearn.cluster.KMeans.html#sklearn.cluster.KMeans) \n"
   ]
  },
  {
   "cell_type": "code",
   "execution_count": null,
   "metadata": {
    "scrolled": true
   },
   "outputs": [],
   "source": [
    "?KMeans"
   ]
  },
  {
   "cell_type": "code",
   "execution_count": null,
   "metadata": {},
   "outputs": [],
   "source": [
    "# set a random_state such that we can reproduce our results\n",
    "\n",
    "kmeans = KMeans(n_clusters=6, random_state=1337)"
   ]
  },
  {
   "cell_type": "markdown",
   "metadata": {},
   "source": [
    "**Be careful to fit `X` - only the features - not the class labels!**"
   ]
  },
  {
   "cell_type": "code",
   "execution_count": null,
   "metadata": {},
   "outputs": [],
   "source": [
    "kmeans.fit(X)"
   ]
  },
  {
   "cell_type": "code",
   "execution_count": null,
   "metadata": {},
   "outputs": [],
   "source": [
    "kmeans.labels_"
   ]
  },
  {
   "cell_type": "markdown",
   "metadata": {},
   "source": [
    "### Evaluating the K-Means Clustering"
   ]
  },
  {
   "cell_type": "markdown",
   "metadata": {},
   "source": [
    "Since we have the true class labels in this case, we can use another metric: the [adjusted rand index](http://scikit-learn.org/stable/modules/clustering.html#clustering-performance-evaluation). "
   ]
  },
  {
   "cell_type": "code",
   "execution_count": null,
   "metadata": {},
   "outputs": [],
   "source": [
    "adjusted_rand_score(y, kmeans.labels_)"
   ]
  },
  {
   "cell_type": "markdown",
   "metadata": {},
   "source": [
    "The sklearn documentation gives a great introduction to k-means [here](http://scikit-learn.org/stable/modules/clustering.html#k-means). It describes what the algorithm is trying to minimise - the squared difference between datapoints and their closest cluster centre - a.k.a. the **inertia**. Lower inertia implies a better fit."
   ]
  },
  {
   "cell_type": "code",
   "execution_count": null,
   "metadata": {},
   "outputs": [],
   "source": [
    "kmeans.inertia_"
   ]
  },
  {
   "cell_type": "markdown",
   "metadata": {},
   "source": [
    "Let's have a look at the counts of the labels within each cluster. If the clustering has worked well, and the labels are inticative of genuine difference in the data, we should expect each cluster to have one dominant label.\n"
   ]
  },
  {
   "cell_type": "code",
   "execution_count": null,
   "metadata": {},
   "outputs": [],
   "source": [
    "\n",
    "cats = ['red soil','cotton crop','grey soil', 'damp grey soil', \n",
    "        'soil with vegetation stubble', 'mixture class (all types present)',\n",
    "        'very damp grey soil']\n",
    "labeldict = dict(zip(range(1,8), cats))\n",
    "y_labels = pd.Categorical([labeldict[y_i] for y_i in y],\n",
    "                          categories=[c for c in cats if c != 'mixture class (all types present)']) # ensures colours same\n",
    "\n",
    "fig, ax = plt.subplots(figsize=(10,6))\n",
    "ax = sns.countplot(\n",
    "    x=kmeans.labels_, \n",
    "    hue=y_labels, \n",
    "    ax=ax\n",
    ")\n",
    "ax.legend(loc='center left', bbox_to_anchor=[1.1, 0.5], title='Class')\n",
    "plt.xlabel('cluster id')\n",
    "plt.show()"
   ]
  },
  {
   "cell_type": "markdown",
   "metadata": {},
   "source": [
    "### Evaluating different cluster numbers"
   ]
  },
  {
   "cell_type": "code",
   "execution_count": null,
   "metadata": {},
   "outputs": [],
   "source": [
    "k_values = []\n",
    "inertia_values = []\n",
    "silouette_values = []\n",
    "\n",
    "for k in range(2,13):\n",
    "    kmeans = KMeans(n_clusters=k, random_state=1337)\n",
    "    kmeans.fit(X)\n",
    "    k_values.append(k)\n",
    "    inertia_values.append(kmeans.inertia_)\n",
    "    silouette_values.append(silhouette_score(X, kmeans.labels_))\n",
    "    print(f'# Clusters: {k}')\n",
    "    print(f'Inertia value: {kmeans.inertia_}')\n",
    "    print(f'Silouette Score: {silhouette_score(X, kmeans.labels_)}')\n",
    "    print()\n",
    "    "
   ]
  },
  {
   "cell_type": "code",
   "execution_count": null,
   "metadata": {},
   "outputs": [],
   "source": [
    "plt.scatter(k_values, inertia_values)\n",
    "plt.plot(k_values, inertia_values)\n",
    "plt.xlabel('# Clusters')\n",
    "plt.ylabel('Inertia Score')\n",
    "plt.title('Inertia Score')\n",
    "plt.show()"
   ]
  },
  {
   "cell_type": "code",
   "execution_count": null,
   "metadata": {},
   "outputs": [],
   "source": [
    "plt.scatter(k_values[3:], inertia_values[3:])\n",
    "plt.plot(k_values[3:], inertia_values[3:])\n",
    "plt.xlabel('# Clusters')\n",
    "plt.ylabel('Inertia Score')\n",
    "plt.title('Inertia Score')\n",
    "plt.show()"
   ]
  },
  {
   "cell_type": "code",
   "execution_count": null,
   "metadata": {},
   "outputs": [],
   "source": [
    "plt.scatter(k_values, silouette_values)\n",
    "plt.plot(k_values, silouette_values)\n",
    "plt.xlabel('# Clusters')\n",
    "plt.ylabel('Silouette Score')\n",
    "plt.title('Silouette Score')\n",
    "plt.show()"
   ]
  },
  {
   "cell_type": "markdown",
   "metadata": {},
   "source": [
    "## Dimensionality reduction"
   ]
  },
  {
   "cell_type": "markdown",
   "metadata": {},
   "source": [
    "The landsat data is 36 dimensional, so we cannot visualise it, with respect to class, on a nice two dimensional plot. Additionally, as dimensionality increases, euclidean distance [becomes less meaningful](https://en.wikipedia.org/wiki/Curse_of_dimensionality#Distance_functions)...\n",
    "\n",
    "Perhaps if we found a lower dimensional subspace the data lies upon, we could more easily distinguish the datapoints..."
   ]
  },
  {
   "cell_type": "markdown",
   "metadata": {},
   "source": [
    "\n",
    "We are going to project the data down to 2 dimensions and visualise it using PCA. \n"
   ]
  },
  {
   "cell_type": "code",
   "execution_count": null,
   "metadata": {},
   "outputs": [],
   "source": [
    "?PCA"
   ]
  },
  {
   "cell_type": "code",
   "execution_count": null,
   "metadata": {},
   "outputs": [],
   "source": [
    "pca = PCA(n_components=2)"
   ]
  },
  {
   "cell_type": "code",
   "execution_count": null,
   "metadata": {},
   "outputs": [],
   "source": [
    "X_2d = pca.fit_transform(X)"
   ]
  },
  {
   "cell_type": "code",
   "execution_count": null,
   "metadata": {},
   "outputs": [],
   "source": [
    "X_2d"
   ]
  },
  {
   "cell_type": "code",
   "execution_count": null,
   "metadata": {},
   "outputs": [],
   "source": [
    "pca.components_"
   ]
  },
  {
   "cell_type": "markdown",
   "metadata": {},
   "source": [
    "### Visualisations"
   ]
  },
  {
   "cell_type": "markdown",
   "metadata": {},
   "source": [
    "Let's visualise the data! Does the data look like it will be confused by a k-means clustering in the same way now?\n"
   ]
  },
  {
   "cell_type": "markdown",
   "metadata": {},
   "source": [
    "\n",
    "Without performing a clustering, it's hard to say whether the data is more or less seperable. However, we can see 6 definite clusters with some overlap in the top plot, but it's not all that clear. The kernel density plot allows us to see better where the density lies. These clusters are not spherical and there is overlap, so k-means will always fail. See in particular the 'red soil' data points vs. the 'soil with vegetation stubble points. As expected, we see the 'cotton crop' data points are very distinct from the rest. "
   ]
  },
  {
   "cell_type": "code",
   "execution_count": null,
   "metadata": {},
   "outputs": [],
   "source": [
    "\n",
    "colours = matplotlib.rcParams['axes.prop_cycle'].by_key()['color']\n",
    "\n",
    "plt.figure(figsize=(12,8))\n",
    "colours = matplotlib.rcParams['axes.prop_cycle'].by_key()['color']\n",
    "lw = 2\n",
    "\n",
    "sub_cats = [c for c in cats if c != 'mixture class (all types present)']\n",
    "for color, target_name in zip(colours, sub_cats):\n",
    "    plt.scatter(\n",
    "        X_2d[y_labels == target_name, 0], \n",
    "        X_2d[y_labels == target_name, 1], \n",
    "        color=color, \n",
    "        alpha=.5, \n",
    "        lw=lw,\n",
    "        label=target_name\n",
    "    )\n",
    "plt.axis('equal')\n",
    "plt.legend(loc='center left', scatterpoints=3, bbox_to_anchor=[1.01, 0.5])\n",
    "plt.title('Labelled data in PCA space')\n",
    "plt.xlabel('PC1')\n",
    "plt.ylabel('PC2')\n",
    "top_plot = plt.gca()\n",
    "plt.show()"
   ]
  },
  {
   "cell_type": "code",
   "execution_count": null,
   "metadata": {},
   "outputs": [],
   "source": [
    "\n",
    "import matplotlib.lines as mlines\n",
    "fig, ax = plt.subplots(figsize=(12,8))\n",
    "colours = matplotlib.rcParams['axes.prop_cycle'].by_key()['color']\n",
    "lines = []\n",
    "for ii, cat in enumerate(sub_cats):\n",
    "    idx = y_labels==cat\n",
    "    g = sns.kdeplot(\n",
    "        x=X_2d[idx, 0], \n",
    "        y=X_2d[idx, 1], \n",
    "        ax=ax, \n",
    "        n_levels=10,\n",
    "        cmap=sns.light_palette(colours[ii], as_cmap=True)\n",
    "    )\n",
    "ax.set_xlim(top_plot.get_xlim())\n",
    "ax.set_ylim(top_plot.get_ylim())\n",
    "patches = [mlines.Line2D([], [], color=colours[ii], label=cat) for ii, cat in enumerate(sub_cats)]\n",
    "plt.legend(patches, sub_cats, loc='center left', scatterpoints=3, bbox_to_anchor=[1.01, 0.5])\n",
    "plt.title('Kernel density plots for each class')\n",
    "plt.show()"
   ]
  },
  {
   "cell_type": "markdown",
   "metadata": {},
   "source": [
    "## Extension - experimenting with different cluster numbers on different dimension numbers"
   ]
  },
  {
   "cell_type": "markdown",
   "metadata": {},
   "source": [
    "There seems to be a sweet spot around 10 clusters. This provides some evidence that the classes are multimodal. You can see that in the plots."
   ]
  },
  {
   "cell_type": "code",
   "execution_count": null,
   "metadata": {},
   "outputs": [],
   "source": [
    "\n",
    "for ii in range(1,20,2):\n",
    "    km = KMeans(n_clusters=ii, random_state=1337)  \n",
    "    km.fit(X_2d)\n",
    "    y_pred = km.labels_\n",
    "    print('\\nk-means with {} clusters results\\nARI: {}, Inertia: {}'.\\\n",
    "          format(ii, adjusted_rand_score(y, y_pred), km.inertia_))\n"
   ]
  },
  {
   "cell_type": "markdown",
   "metadata": {},
   "source": [
    "Increasing from 2 to 3 principal component dimensions provides a big benefit for kmeans. In fact, it's better than using the full data. "
   ]
  },
  {
   "cell_type": "code",
   "execution_count": null,
   "metadata": {},
   "outputs": [],
   "source": [
    "\n",
    "for ii in range(2, 6):\n",
    "    X_pca = PCA(n_components = ii).fit_transform(X)\n",
    "    km = KMeans(n_clusters=6, random_state=1337)  \n",
    "    km.fit(X_pca)\n",
    "    y_pred = km.labels_\n",
    "    print('\\n{}D PCA data, kmeans results\\nARI: {}, Inertia: {}'.\\\n",
    "          format(ii, adjusted_rand_score(y, y_pred), km.inertia_))"
   ]
  },
  {
   "cell_type": "markdown",
   "metadata": {},
   "source": [
    "## Credits"
   ]
  },
  {
   "cell_type": "markdown",
   "metadata": {},
   "source": [
    "Lab prepared by Lawrence Murray and Chris Williams, November 2008; revised Athina Spiliopoulou Nov 2009; revised Sean Moran Nov 2011; revised Boris Mitrovic Oct 2013; revised and converted python by James Owers and Agamemnon Krasoulis Oct 2016"
   ]
  }
 ],
 "metadata": {
  "anaconda-cloud": {},
  "kernelspec": {
   "display_name": "Python 3 (ipykernel)",
   "language": "python",
   "name": "python3"
  },
  "language_info": {
   "codemirror_mode": {
    "name": "ipython",
    "version": 3
   },
   "file_extension": ".py",
   "mimetype": "text/x-python",
   "name": "python",
   "nbconvert_exporter": "python",
   "pygments_lexer": "ipython3",
   "version": "3.9.6"
  }
 },
 "nbformat": 4,
 "nbformat_minor": 4
}
